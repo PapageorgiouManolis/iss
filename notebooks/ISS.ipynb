{
 "cells": [
  {
   "cell_type": "markdown",
   "id": "abandoned-vatican",
   "metadata": {},
   "source": [
    "# ISS Location Forecast"
   ]
  },
  {
   "cell_type": "markdown",
   "id": "dress-paste",
   "metadata": {},
   "source": [
    "### A time series of surface coordinates for the International Space Station (ISS) has been provided and we want to create a model that it will be able to predict ISS's location at a given datetime: 10/09/2019 @ 12:10:00. The data available consist of 145 observations during a full day from 08/09/2019 to 09/09/2019 with a 10-minute frequency and 2 geospatial variables: Latitude and Longitude.\n",
    "### These two variables represent a point in the 2dimensional map of Earth, they are not independent from one another, thus making our problem a Multivariate Time Series one. We will use Vector Autoregression (VAR) which is a multivariate forecasting algorithm that is used when two or more time series influence each other.\n"
   ]
  },
  {
   "cell_type": "markdown",
   "id": "common-looking",
   "metadata": {},
   "source": [
    "## Contents"
   ]
  },
  {
   "cell_type": "markdown",
   "id": "thermal-conditions",
   "metadata": {},
   "source": [
    "```\n",
    "1. Used libraries import\n",
    "2. Dataset loading\n",
    "3. Time Series visualization\n",
    "4. Causation test\n",
    "5. Cointegration test\n",
    "6. Training and Testing Dataset split\n",
    "7. Stationarity Test\n",
    "8. Var Order (range) Selection\n",
    "9. Lag parameter tuning on test dataset \n",
    "   Fit model - Forecast - Evaluate\n",
    "10.Final Model Train and Save\n",
    "11.Final Forecast\n",
    "12.Final Evaluation and Points to be seen in the future\n",
    "```"
   ]
  },
  {
   "cell_type": "markdown",
   "id": "standard-pearl",
   "metadata": {},
   "source": [
    "## 1. Install and Import Used libraries"
   ]
  },
  {
   "cell_type": "code",
   "execution_count": 5,
   "id": "greater-alpha",
   "metadata": {},
   "outputs": [
    {
     "name": "stdout",
     "output_type": "stream",
     "text": [
      "Requirement already satisfied: numpy in /Users/manolis/anaconda3/envs/trg/lib/python3.6/site-packages (1.19.5)\n",
      "Requirement already satisfied: pandas in /Users/manolis/anaconda3/envs/trg/lib/python3.6/site-packages (1.1.5)\n",
      "Requirement already satisfied: pytz>=2017.2 in /Users/manolis/anaconda3/envs/trg/lib/python3.6/site-packages (from pandas) (2021.1)\n",
      "Requirement already satisfied: numpy>=1.15.4 in /Users/manolis/anaconda3/envs/trg/lib/python3.6/site-packages (from pandas) (1.19.5)\n",
      "Requirement already satisfied: python-dateutil>=2.7.3 in /Users/manolis/anaconda3/envs/trg/lib/python3.6/site-packages (from pandas) (2.8.1)\n",
      "Requirement already satisfied: six>=1.5 in /Users/manolis/anaconda3/envs/trg/lib/python3.6/site-packages (from python-dateutil>=2.7.3->pandas) (1.15.0)\n",
      "Requirement already satisfied: matplotlib in /Users/manolis/anaconda3/envs/trg/lib/python3.6/site-packages (3.3.4)\n",
      "Requirement already satisfied: cycler>=0.10 in /Users/manolis/anaconda3/envs/trg/lib/python3.6/site-packages (from matplotlib) (0.10.0)\n",
      "Requirement already satisfied: pillow>=6.2.0 in /Users/manolis/anaconda3/envs/trg/lib/python3.6/site-packages (from matplotlib) (8.1.0)\n",
      "Requirement already satisfied: python-dateutil>=2.1 in /Users/manolis/anaconda3/envs/trg/lib/python3.6/site-packages (from matplotlib) (2.8.1)\n",
      "Requirement already satisfied: numpy>=1.15 in /Users/manolis/anaconda3/envs/trg/lib/python3.6/site-packages (from matplotlib) (1.19.5)\n",
      "Requirement already satisfied: pyparsing!=2.0.4,!=2.1.2,!=2.1.6,>=2.0.3 in /Users/manolis/anaconda3/envs/trg/lib/python3.6/site-packages (from matplotlib) (2.4.7)\n",
      "Requirement already satisfied: kiwisolver>=1.0.1 in /Users/manolis/anaconda3/envs/trg/lib/python3.6/site-packages (from matplotlib) (1.3.1)\n",
      "Requirement already satisfied: six in /Users/manolis/anaconda3/envs/trg/lib/python3.6/site-packages (from cycler>=0.10->matplotlib) (1.15.0)\n",
      "Requirement already satisfied: statsmodels in /Users/manolis/anaconda3/envs/trg/lib/python3.6/site-packages (0.12.2)\n",
      "Requirement already satisfied: scipy>=1.1 in /Users/manolis/anaconda3/envs/trg/lib/python3.6/site-packages (from statsmodels) (1.5.4)\n",
      "Requirement already satisfied: pandas>=0.21 in /Users/manolis/anaconda3/envs/trg/lib/python3.6/site-packages (from statsmodels) (1.1.5)\n",
      "Requirement already satisfied: numpy>=1.15 in /Users/manolis/anaconda3/envs/trg/lib/python3.6/site-packages (from statsmodels) (1.19.5)\n",
      "Requirement already satisfied: patsy>=0.5 in /Users/manolis/anaconda3/envs/trg/lib/python3.6/site-packages (from statsmodels) (0.5.1)\n",
      "Requirement already satisfied: pytz>=2017.2 in /Users/manolis/anaconda3/envs/trg/lib/python3.6/site-packages (from pandas>=0.21->statsmodels) (2021.1)\n",
      "Requirement already satisfied: python-dateutil>=2.7.3 in /Users/manolis/anaconda3/envs/trg/lib/python3.6/site-packages (from pandas>=0.21->statsmodels) (2.8.1)\n",
      "Requirement already satisfied: six in /Users/manolis/anaconda3/envs/trg/lib/python3.6/site-packages (from patsy>=0.5->statsmodels) (1.15.0)\n"
     ]
    }
   ],
   "source": [
    "!pip install numpy\n",
    "!pip install pandas \n",
    "!pip install matplotlib\n",
    "!pip install statsmodels"
   ]
  },
  {
   "cell_type": "code",
   "execution_count": 6,
   "id": "personalized-california",
   "metadata": {},
   "outputs": [],
   "source": [
    "import pandas as pd\n",
    "import numpy as np\n",
    "import matplotlib.pyplot as plt\n",
    "%matplotlib inline\n",
    "\n",
    "# Import Statsmodels\n",
    "from statsmodels.tsa.api import VAR\n",
    "from statsmodels.tsa.stattools import adfuller\n",
    "from statsmodels.tools.eval_measures import rmse, aic"
   ]
  },
  {
   "cell_type": "markdown",
   "id": "bearing-arcade",
   "metadata": {},
   "source": [
    "## 2. Dataset loading"
   ]
  },
  {
   "cell_type": "code",
   "execution_count": 38,
   "id": "retained-optimization",
   "metadata": {},
   "outputs": [
    {
     "name": "stdout",
     "output_type": "stream",
     "text": [
      "Time         datetime64[ns, UTC]\n",
      "Latitude                 float64\n",
      "Longitude                float64\n",
      "dtype: object\n",
      "(144, 3)\n"
     ]
    },
    {
     "data": {
      "text/html": [
       "<div>\n",
       "<style scoped>\n",
       "    .dataframe tbody tr th:only-of-type {\n",
       "        vertical-align: middle;\n",
       "    }\n",
       "\n",
       "    .dataframe tbody tr th {\n",
       "        vertical-align: top;\n",
       "    }\n",
       "\n",
       "    .dataframe thead th {\n",
       "        text-align: right;\n",
       "    }\n",
       "</style>\n",
       "<table border=\"1\" class=\"dataframe\">\n",
       "  <thead>\n",
       "    <tr style=\"text-align: right;\">\n",
       "      <th></th>\n",
       "      <th>Latitude</th>\n",
       "      <th>Longitude</th>\n",
       "    </tr>\n",
       "    <tr>\n",
       "      <th>Time</th>\n",
       "      <th></th>\n",
       "      <th></th>\n",
       "    </tr>\n",
       "  </thead>\n",
       "  <tbody>\n",
       "    <tr>\n",
       "      <th>2019-09-08 00:10:00+00:00</th>\n",
       "      <td>-43.025</td>\n",
       "      <td>-9.414</td>\n",
       "    </tr>\n",
       "    <tr>\n",
       "      <th>2019-09-08 00:20:00+00:00</th>\n",
       "      <td>-17.103</td>\n",
       "      <td>155.199</td>\n",
       "    </tr>\n",
       "    <tr>\n",
       "      <th>2019-09-08 00:30:00+00:00</th>\n",
       "      <td>-43.252</td>\n",
       "      <td>-173.599</td>\n",
       "    </tr>\n",
       "    <tr>\n",
       "      <th>2019-09-08 00:40:00+00:00</th>\n",
       "      <td>-50.867</td>\n",
       "      <td>-119.158</td>\n",
       "    </tr>\n",
       "    <tr>\n",
       "      <th>2019-09-08 00:50:00+00:00</th>\n",
       "      <td>-31.793</td>\n",
       "      <td>-75.629</td>\n",
       "    </tr>\n",
       "    <tr>\n",
       "      <th>...</th>\n",
       "      <td>...</td>\n",
       "      <td>...</td>\n",
       "    </tr>\n",
       "    <tr>\n",
       "      <th>2019-09-08 23:20:00+00:00</th>\n",
       "      <td>19.847</td>\n",
       "      <td>133.991</td>\n",
       "    </tr>\n",
       "    <tr>\n",
       "      <th>2019-09-08 23:30:00+00:00</th>\n",
       "      <td>-10.403</td>\n",
       "      <td>156.257</td>\n",
       "    </tr>\n",
       "    <tr>\n",
       "      <th>2019-09-08 23:40:00+00:00</th>\n",
       "      <td>-38.284</td>\n",
       "      <td>-176.195</td>\n",
       "    </tr>\n",
       "    <tr>\n",
       "      <th>2019-09-08 23:50:00+00:00</th>\n",
       "      <td>-51.797</td>\n",
       "      <td>-126.154</td>\n",
       "    </tr>\n",
       "    <tr>\n",
       "      <th>2019-09-09 00:00:00+00:00</th>\n",
       "      <td>-37.506</td>\n",
       "      <td>-76.825</td>\n",
       "    </tr>\n",
       "  </tbody>\n",
       "</table>\n",
       "<p>144 rows × 2 columns</p>\n",
       "</div>"
      ],
      "text/plain": [
       "                           Latitude  Longitude\n",
       "Time                                          \n",
       "2019-09-08 00:10:00+00:00   -43.025     -9.414\n",
       "2019-09-08 00:20:00+00:00   -17.103    155.199\n",
       "2019-09-08 00:30:00+00:00   -43.252   -173.599\n",
       "2019-09-08 00:40:00+00:00   -50.867   -119.158\n",
       "2019-09-08 00:50:00+00:00   -31.793    -75.629\n",
       "...                             ...        ...\n",
       "2019-09-08 23:20:00+00:00    19.847    133.991\n",
       "2019-09-08 23:30:00+00:00   -10.403    156.257\n",
       "2019-09-08 23:40:00+00:00   -38.284   -176.195\n",
       "2019-09-08 23:50:00+00:00   -51.797   -126.154\n",
       "2019-09-09 00:00:00+00:00   -37.506    -76.825\n",
       "\n",
       "[144 rows x 2 columns]"
      ]
     },
     "execution_count": 38,
     "metadata": {},
     "output_type": "execute_result"
    }
   ],
   "source": [
    "import os\n",
    "\n",
    "# Import our dataset\n",
    "df = pd.read_csv(\"../data/data.csv\", parse_dates=['Time'])\n",
    "print(df.dtypes)\n",
    "print(df.shape)\n",
    "# Set time as index\n",
    "df.index = df.Time\n",
    "df = df.drop(['Time'], axis=1)\n",
    "df"
   ]
  },
  {
   "cell_type": "markdown",
   "id": "czech-oxygen",
   "metadata": {
    "pycharm": {
     "name": "#%% md\n"
    }
   },
   "source": [
    "## 3. Time Series visualization"
   ]
  },
  {
   "cell_type": "code",
   "execution_count": 39,
   "id": "regular-fleece",
   "metadata": {},
   "outputs": [
    {
     "data": {
      "image/png": "[encoded data removed]",
      "text/plain": [
       "<Figure size 1200x720 with 2 Axes>"
      ]
     },
     "metadata": {
      "needs_background": "light"
     },
     "output_type": "display_data"
    }
   ],
   "source": [
    "# Visualize the time series\n",
    "fig, axes = plt.subplots(nrows=2, ncols=1, dpi=120, figsize=(10,6))\n",
    "for i, ax in enumerate(axes.flatten()):\n",
    "    data = df[df.columns[i]]\n",
    "    ax.plot(data, color='red', linewidth=1)\n",
    "    # Decorations\n",
    "    ax.set_title(df.columns[i])\n",
    "    ax.xaxis.set_ticks_position('none')\n",
    "    ax.yaxis.set_ticks_position('none')\n",
    "    ax.spines[\"top\"].set_alpha(0)\n",
    "    ax.tick_params(labelsize=6)\n",
    "\n",
    "plt.tight_layout();"
   ]
  },
  {
   "cell_type": "markdown",
   "id": "adjacent-toner",
   "metadata": {},
   "source": [
    "#### The ISS circles the Earth in roughly 93 minutes, completing 15.5 orbits per day, so the above diagrams are what exactly we expected with 15,5 cycles for both Latitude and Longitude from the beginning to the end of the day (2019-09-08 - 2019-09-09). "
   ]
  },
  {
   "cell_type": "markdown",
   "id": "saved-vanilla",
   "metadata": {
    "pycharm": {
     "name": "#%% md\n"
    }
   },
   "source": [
    "## 4. Causation test"
   ]
  },
  {
   "cell_type": "markdown",
   "id": "unusual-arcade",
   "metadata": {},
   "source": [
    "### Testing Causation using Granger’s Causality Test, does each of the time series in the system influence each other?"
   ]
  },
  {
   "cell_type": "code",
   "execution_count": 40,
   "id": "comparable-circus",
   "metadata": {
    "pycharm": {
     "name": "#%%\n"
    }
   },
   "outputs": [
    {
     "data": {
      "text/html": [
       "<div>\n",
       "<style scoped>\n",
       "    .dataframe tbody tr th:only-of-type {\n",
       "        vertical-align: middle;\n",
       "    }\n",
       "\n",
       "    .dataframe tbody tr th {\n",
       "        vertical-align: top;\n",
       "    }\n",
       "\n",
       "    .dataframe thead th {\n",
       "        text-align: right;\n",
       "    }\n",
       "</style>\n",
       "<table border=\"1\" class=\"dataframe\">\n",
       "  <thead>\n",
       "    <tr style=\"text-align: right;\">\n",
       "      <th></th>\n",
       "      <th>Latitude_x</th>\n",
       "      <th>Longitude_x</th>\n",
       "    </tr>\n",
       "  </thead>\n",
       "  <tbody>\n",
       "    <tr>\n",
       "      <th>Latitude_y</th>\n",
       "      <td>1.0000</td>\n",
       "      <td>0.0</td>\n",
       "    </tr>\n",
       "    <tr>\n",
       "      <th>Longitude_y</th>\n",
       "      <td>0.0012</td>\n",
       "      <td>1.0</td>\n",
       "    </tr>\n",
       "  </tbody>\n",
       "</table>\n",
       "</div>"
      ],
      "text/plain": [
       "             Latitude_x  Longitude_x\n",
       "Latitude_y       1.0000          0.0\n",
       "Longitude_y      0.0012          1.0"
      ]
     },
     "execution_count": 40,
     "metadata": {},
     "output_type": "execute_result"
    }
   ],
   "source": [
    "from statsmodels.tsa.stattools import grangercausalitytests\n",
    "maxlag=24\n",
    "test = 'ssr_chi2test'\n",
    "def grangers_causation_matrix(data, variables, test='ssr_chi2test', verbose=False):    \n",
    "    \"\"\"Check Granger Causality of all possible combinations of the Time series.\n",
    "    The rows are the response variable, columns are predictors. The values in the table \n",
    "    are the P-Values. P-Values lesser than the significance level (0.05), implies \n",
    "    the Null Hypothesis that the coefficients of the corresponding past values is \n",
    "    zero, that is, the X does not cause Y can be rejected.\n",
    "\n",
    "    data      : pandas dataframe containing the time series variables\n",
    "    variables : list containing names of the time series variables.\n",
    "    \"\"\"\n",
    "    df = pd.DataFrame(np.zeros((len(variables), len(variables))), columns=variables, index=variables)\n",
    "    for c in df.columns:\n",
    "        for r in df.index:\n",
    "            test_result = grangercausalitytests(data[[r, c]], maxlag=maxlag, verbose=False)\n",
    "            p_values = [round(test_result[i+1][0][test][1],4) for i in range(maxlag)]\n",
    "            if verbose: print(f'Y = {r}, X = {c}, P Values = {p_values}')\n",
    "            min_p_value = np.min(p_values)\n",
    "            df.loc[r, c] = min_p_value\n",
    "    df.columns = [var + '_x' for var in variables]\n",
    "    df.index = [var + '_y' for var in variables]\n",
    "    return df\n",
    "\n",
    "grangers_causation_matrix(df, variables = df.columns)     "
   ]
  },
  {
   "cell_type": "markdown",
   "id": "liked-partnership",
   "metadata": {},
   "source": [
    "####  The p-values obtained from the test are lesser than the significance level of 0.05 for both variables, so we can safely say that both time series influence each other.\n"
   ]
  },
  {
   "cell_type": "markdown",
   "id": "significant-amino",
   "metadata": {
    "pycharm": {
     "name": "#%% md\n"
    }
   },
   "source": [
    "## 5. Cointegration Test"
   ]
  },
  {
   "cell_type": "code",
   "execution_count": 41,
   "id": "vocal-pacific",
   "metadata": {
    "pycharm": {
     "name": "#%%\n"
    }
   },
   "outputs": [
    {
     "name": "stdout",
     "output_type": "stream",
     "text": [
      "Name   ::  Test Stat > C(95%)    =>   Signif  \n",
      " ----------------------------------------\n",
      "Latitude ::  490.1     > 12.3212   =>   True\n",
      "Longitude ::  80.29     > 4.1296    =>   True\n"
     ]
    }
   ],
   "source": [
    "# Cointegration test helps to establish the presence\n",
    "# of a statistically significant connection between our time series.\n",
    "from statsmodels.tsa.vector_ar.vecm import coint_johansen\n",
    "\n",
    "def cointegration_test(df, alpha=0.05): \n",
    "    \"\"\"Perform Johanson's Cointegration Test and Report Summary\"\"\"\n",
    "    out = coint_johansen(df,-1,5)\n",
    "    d = {'0.90':0, '0.95':1, '0.99':2}\n",
    "    traces = out.lr1\n",
    "    cvts = out.cvt[:, d[str(1-alpha)]]\n",
    "    def adjust(val, length= 6): return str(val).ljust(length)\n",
    "\n",
    "    # Summary\n",
    "    print('Name   ::  Test Stat > C(95%)    =>   Signif  \\n', '--'*20)\n",
    "    for col, trace, cvt in zip(df.columns, traces, cvts):\n",
    "        print(adjust(col), ':: ', adjust(round(trace,2), 9), \">\", adjust(cvt, 8), ' =>  ' , trace > cvt)\n",
    "\n",
    "cointegration_test(df)"
   ]
  },
  {
   "cell_type": "markdown",
   "id": "ranging-quick",
   "metadata": {},
   "source": [
    "## 6. Training and Testing Dataset split"
   ]
  },
  {
   "cell_type": "markdown",
   "id": "sunrise-mercy",
   "metadata": {
    "pycharm": {
     "name": "#%% md\n"
    }
   },
   "source": [
    "#### The dataset consists of 145 observations of one day (2019-09-08 to 2019-09-09) with a 10-minute frequency.\n",
    "#### The ISS circles the Earth in roughly 93 minutes, completing 15.5 orbits per day (as mentioned above). So, we will choose our testing dataset to be of size 15, thus we will try to predict a day's and a half period for its locations.\n"
   ]
  },
  {
   "cell_type": "code",
   "execution_count": 44,
   "id": "floppy-robert",
   "metadata": {},
   "outputs": [
    {
     "name": "stdout",
     "output_type": "stream",
     "text": [
      "(129, 2)\n",
      "(15, 2)\n"
     ]
    }
   ],
   "source": [
    "observations = 15\n",
    "df_train, df_test = df[:-observations], df[-observations:]\n",
    "\n",
    "# Check size\n",
    "print(df_train.shape)\n",
    "print(df_test.shape)"
   ]
  },
  {
   "cell_type": "markdown",
   "id": "touched-experiment",
   "metadata": {
    "pycharm": {
     "name": "#%% md\n"
    }
   },
   "source": [
    "## 7. Stationarity Test"
   ]
  },
  {
   "cell_type": "code",
   "execution_count": 45,
   "id": "fancy-affairs",
   "metadata": {
    "pycharm": {
     "name": "#%%\n"
    }
   },
   "outputs": [],
   "source": [
    "# The VAR model requires the time series we want to forecast to be stationary, so it is customary to check\n",
    "# all the time series in the system for stationarity (characteristics like mean and variance does not change over time)\n",
    "# Augmented Dickey Fuller test (ADF Test) is a common statistical test used to test whether a given Time series \n",
    "# is stationary or not. It is one of the most commonly used statistical test when it comes to analyzing the\n",
    "# stationary of a series.\n",
    "\n",
    "def adfuller_test(series, signif=0.05, name='', verbose=False):\n",
    "    \"\"\"Perform ADFuller to test for Stationarity of given series and print report\"\"\"\n",
    "    r = adfuller(series, autolag='AIC')\n",
    "    output = {'test_statistic':round(r[0], 4), 'pvalue':round(r[1], 4), 'n_lags':round(r[2], 4), 'n_obs':r[3]}\n",
    "    p_value = output['pvalue'] \n",
    "    def adjust(val, length= 6): return str(val).ljust(length)\n",
    "\n",
    "    # Print Summary\n",
    "    print(f'    Augmented Dickey-Fuller Test on \"{name}\"', \"\\n   \", '-'*47)\n",
    "    print(f' Null Hypothesis: Data has unit root. Non-Stationary.')\n",
    "    print(f' Significance Level    = {signif}')\n",
    "    print(f' Test Statistic        = {output[\"test_statistic\"]}')\n",
    "    print(f' No. Lags Chosen       = {output[\"n_lags\"]}')\n",
    "\n",
    "    for key,val in r[4].items():\n",
    "        print(f' Critical value {adjust(key)} = {round(val, 3)}')\n",
    "\n",
    "    if p_value <= signif:\n",
    "        print(f\" => P-Value = {p_value}. Rejecting Null Hypothesis.\")\n",
    "        print(f\" => Series is Stationary.\")\n",
    "    else:\n",
    "        print(f\" => P-Value = {p_value}. Weak evidence to reject the Null Hypothesis.\")\n",
    "        print(f\" => Series is Non-Stationary.\")   "
   ]
  },
  {
   "cell_type": "code",
   "execution_count": 46,
   "id": "meaningful-christmas",
   "metadata": {
    "pycharm": {
     "name": "#%%\n"
    }
   },
   "outputs": [
    {
     "name": "stdout",
     "output_type": "stream",
     "text": [
      "    Augmented Dickey-Fuller Test on \"Latitude\" \n",
      "    -----------------------------------------------\n",
      " Null Hypothesis: Data has unit root. Non-Stationary.\n",
      " Significance Level    = 0.05\n",
      " Test Statistic        = -1.27\n",
      " No. Lags Chosen       = 12\n",
      " Critical value 1%     = -3.488\n",
      " Critical value 5%     = -2.887\n",
      " Critical value 10%    = -2.58\n",
      " => P-Value = 0.6428. Weak evidence to reject the Null Hypothesis.\n",
      " => Series is Non-Stationary.\n",
      "\n",
      "\n",
      "    Augmented Dickey-Fuller Test on \"Longitude\" \n",
      "    -----------------------------------------------\n",
      " Null Hypothesis: Data has unit root. Non-Stationary.\n",
      " Significance Level    = 0.05\n",
      " Test Statistic        = -2.1592\n",
      " No. Lags Chosen       = 9\n",
      " Critical value 1%     = -3.487\n",
      " Critical value 5%     = -2.886\n",
      " Critical value 10%    = -2.58\n",
      " => P-Value = 0.2214. Weak evidence to reject the Null Hypothesis.\n",
      " => Series is Non-Stationary.\n",
      "\n",
      "\n"
     ]
    }
   ],
   "source": [
    "# ADF Test on each column\n",
    "for name, column in df_train.iteritems():\n",
    "    adfuller_test(column, name=column.name)\n",
    "    print('\\n')"
   ]
  },
  {
   "cell_type": "markdown",
   "id": "controlled-happiness",
   "metadata": {
    "pycharm": {
     "name": "#%% md\n"
    }
   },
   "source": [
    "#### The ADF test confirms that none of the time series is stationary. We will difference them and test again."
   ]
  },
  {
   "cell_type": "code",
   "execution_count": 48,
   "id": "academic-testimony",
   "metadata": {
    "pycharm": {
     "name": "#%%\n"
    }
   },
   "outputs": [
    {
     "name": "stdout",
     "output_type": "stream",
     "text": [
      "    Augmented Dickey-Fuller Test on \"Latitude\" \n",
      "    -----------------------------------------------\n",
      " Null Hypothesis: Data has unit root. Non-Stationary.\n",
      " Significance Level    = 0.05\n",
      " Test Statistic        = -4.6552\n",
      " No. Lags Chosen       = 12\n",
      " Critical value 1%     = -3.489\n",
      " Critical value 5%     = -2.887\n",
      " Critical value 10%    = -2.58\n",
      " => P-Value = 0.0001. Rejecting Null Hypothesis.\n",
      " => Series is Stationary.\n",
      "\n",
      "\n",
      "    Augmented Dickey-Fuller Test on \"Longitude\" \n",
      "    -----------------------------------------------\n",
      " Null Hypothesis: Data has unit root. Non-Stationary.\n",
      " Significance Level    = 0.05\n",
      " Test Statistic        = -20.263\n",
      " No. Lags Chosen       = 8\n",
      " Critical value 1%     = -3.487\n",
      " Critical value 5%     = -2.886\n",
      " Critical value 10%    = -2.58\n",
      " => P-Value = 0.0. Rejecting Null Hypothesis.\n",
      " => Series is Stationary.\n",
      "\n",
      "\n"
     ]
    }
   ],
   "source": [
    "df_differenced = df_train.diff().dropna()\n",
    "\n",
    "# ADF Test on each column of the Differenced Dataframe\n",
    "for name, column in df_differenced.iteritems():\n",
    "    adfuller_test(column, name=column.name)\n",
    "    print('\\n')"
   ]
  },
  {
   "cell_type": "markdown",
   "id": "dressed-green",
   "metadata": {
    "pycharm": {
     "name": "#%% md\n"
    }
   },
   "source": [
    "#### As we can see the p-values for both variables are zero now and both time series became stationary."
   ]
  },
  {
   "cell_type": "markdown",
   "id": "respiratory-brazil",
   "metadata": {
    "pycharm": {
     "name": "#%% md\n"
    }
   },
   "source": [
    "## 8. Var Order Selection"
   ]
  },
  {
   "cell_type": "code",
   "execution_count": 15,
   "id": "organizational-netherlands",
   "metadata": {
    "pycharm": {
     "name": "#%%\n"
    }
   },
   "outputs": [
    {
     "name": "stderr",
     "output_type": "stream",
     "text": [
      "/Users/manolis/anaconda3/envs/trg/lib/python3.6/site-packages/statsmodels/tsa/base/tsa_model.py:527: ValueWarning: No frequency information was provided, so inferred frequency 10T will be used.\n",
      "  % freq, ValueWarning)\n"
     ]
    },
    {
     "data": {
      "image/png": "[encoded data removed]",
      "text/plain": [
       "<Figure size 432x288 with 1 Axes>"
      ]
     },
     "metadata": {
      "needs_background": "light"
     },
     "output_type": "display_data"
    }
   ],
   "source": [
    "# To select the right order of the VAR model, we iteratively fit increasing orders\n",
    "# of VAR model and pick the order that gives a model with least AIC.\n",
    "\n",
    "model = VAR(df_differenced)\n",
    "aic_results = list()\n",
    "for i in range(1, 50):\n",
    "    result = model.fit(i)\n",
    "    aic_results.append(result.aic)\n",
    "\n",
    "plt.plot(aic_results)\n",
    "plt.show()"
   ]
  },
  {
   "cell_type": "markdown",
   "id": "affiliated-sellers",
   "metadata": {
    "pycharm": {
     "name": "#%% md\n"
    }
   },
   "source": [
    "#### We tested AIC performance metric for 50 lags. We can see that AIC drops to the first lowest at lag ~12, then it stabilizes for ~20 lags and then it drops sharply. We will choose lag number in range of 10-30 by testing their performance on the test dataset."
   ]
  },
  {
   "cell_type": "markdown",
   "id": "casual-martial",
   "metadata": {},
   "source": [
    "## 9. Lag parameter tuning on test dataset \n",
    "###   Fit model - Forecast - Evaluate\n",
    "#### Evaluation will performed on \n",
    "* Mean Absolute Error Metric\n",
    "* Serial Correlation of Residuals (Errors) using Durbin Watson Statistic"
   ]
  },
  {
   "cell_type": "code",
   "execution_count": 49,
   "id": "automatic-binary",
   "metadata": {
    "pycharm": {
     "name": "#%%\n"
    }
   },
   "outputs": [],
   "source": [
    "def invert_transformation(df_train, df_forecast):\n",
    "    \"\"\"Revert back the differencing to get the forecast to original scale.\"\"\"\n",
    "    df_fc = df_forecast.copy()\n",
    "    df_tr = df_train.copy()\n",
    "    columns = df_tr.columns\n",
    "    for col in columns:        \n",
    "        df_fc[str(col)+'_forecast'] = df_tr[col].iloc[-1] + df_fc[str(col)+'_1d'].cumsum()\n",
    "    return df_fc\n",
    "\n",
    "\n",
    "from statsmodels.tsa.stattools import acf\n",
    "def forecast_accuracy(forecast, actual):\n",
    "    mae = np.mean(np.abs(forecast - actual))\n",
    "    return mae\n",
    "\n",
    "\n",
    "from statsmodels.stats.stattools import durbin_watson\n",
    "'''\n",
    "If there is any correlation left in the residuals, then, there is some pattern in the time series that is still left\n",
    "to be explained by the model.\n",
    "The value of this statistic can vary between 0 and 4. The closer it is to the value 2, then there is no significant\n",
    "serial correlation. The closer to 0, there is a positive serial correlation, and the closer it is to 4 implies \n",
    "negative serial correlation.\n",
    "'''\n",
    "\n",
    "def compare_results_on_test_dataset(train_df, test_df, input_model, lag_order, nobs):\n",
    "    model_fitted = input_model.fit(lag_order)\n",
    "    forecast_input = train_df.values[-lag_order:]\n",
    "    # Forecast\n",
    "    fc = model_fitted.forecast(y=forecast_input, steps=nobs)\n",
    "    df_forecast = pd.DataFrame(fc, index=train_df.index[-nobs:], columns=train_df.columns + '_1d')\n",
    "    df_results = invert_transformation(train_df, df_forecast)\n",
    "    mae = forecast_accuracy(df_results['Latitude_forecast'].values, test_df['Latitude'])\n",
    "    print('Latitude: Mean Absolute Error:', round(mae, 3))\n",
    "    mae = forecast_accuracy(df_results['Longitude_forecast'].values, test_df['Longitude'])\n",
    "    print('Longitude: Mean Absolute Error:', round(mae, 3))\n",
    "    durbin_watson_results = durbin_watson(model_fitted.resid)\n",
    "    print(durbin_watson_results)"
   ]
  },
  {
   "cell_type": "code",
   "execution_count": 50,
   "id": "christian-rider",
   "metadata": {},
   "outputs": [
    {
     "name": "stdout",
     "output_type": "stream",
     "text": [
      "Lag Order: 10\n",
      "Latitude: Mean Absolute Error: 36.363\n",
      "Longitude: Mean Absolute Error: 46.715\n",
      "[1.99888932 1.97394554]\n",
      "\n",
      "Lag Order: 11\n",
      "Latitude: Mean Absolute Error: 36.368\n",
      "Longitude: Mean Absolute Error: 45.177\n",
      "[2.6462812  1.99090019]\n",
      "\n",
      "Lag Order: 12\n",
      "Latitude: Mean Absolute Error: 36.37\n",
      "Longitude: Mean Absolute Error: 45.217\n",
      "[1.50980936 2.00845409]\n",
      "\n",
      "Lag Order: 13\n",
      "Latitude: Mean Absolute Error: 36.368\n",
      "Longitude: Mean Absolute Error: 42.785\n",
      "[2.76178985 2.02583937]\n",
      "\n",
      "Lag Order: 14\n",
      "Latitude: Mean Absolute Error: 36.365\n",
      "Longitude: Mean Absolute Error: 37.214\n",
      "[0.96180511 1.99861883]\n",
      "\n",
      "Lag Order: 15\n",
      "Latitude: Mean Absolute Error: 36.37\n",
      "Longitude: Mean Absolute Error: 41.7\n",
      "[1.72815954 1.99525865]\n",
      "\n",
      "Lag Order: 16\n",
      "Latitude: Mean Absolute Error: 36.368\n",
      "Longitude: Mean Absolute Error: 38.646\n",
      "[1.97291276 1.97978716]\n",
      "\n",
      "Lag Order: 17\n",
      "Latitude: Mean Absolute Error: 36.369\n",
      "Longitude: Mean Absolute Error: 40.48\n",
      "[1.94607284 2.03490447]\n",
      "\n",
      "Lag Order: 18\n",
      "Latitude: Mean Absolute Error: 36.367\n",
      "Longitude: Mean Absolute Error: 42.498\n",
      "[1.63430721 1.9214868 ]\n",
      "\n",
      "Lag Order: 19\n",
      "Latitude: Mean Absolute Error: 36.374\n",
      "Longitude: Mean Absolute Error: 50.925\n",
      "[1.22353573 1.96061646]\n",
      "\n",
      "Lag Order: 20\n",
      "Latitude: Mean Absolute Error: 36.372\n",
      "Longitude: Mean Absolute Error: 53.878\n",
      "[1.72389088 1.94066772]\n",
      "\n",
      "Lag Order: 21\n",
      "Latitude: Mean Absolute Error: 36.373\n",
      "Longitude: Mean Absolute Error: 54.392\n",
      "[2.23253845 2.01373472]\n",
      "\n",
      "Lag Order: 22\n",
      "Latitude: Mean Absolute Error: 36.374\n",
      "Longitude: Mean Absolute Error: 54.331\n",
      "[2.11251558 2.00731807]\n",
      "\n",
      "Lag Order: 23\n",
      "Latitude: Mean Absolute Error: 36.375\n",
      "Longitude: Mean Absolute Error: 49.787\n",
      "[2.08878401 2.01500081]\n",
      "\n",
      "Lag Order: 24\n",
      "Latitude: Mean Absolute Error: 36.374\n",
      "Longitude: Mean Absolute Error: 51.209\n",
      "[2.0067407  1.99176252]\n",
      "\n",
      "Lag Order: 25\n",
      "Latitude: Mean Absolute Error: 36.375\n",
      "Longitude: Mean Absolute Error: 52.086\n",
      "[2.0649374  2.05157544]\n",
      "\n",
      "Lag Order: 26\n",
      "Latitude: Mean Absolute Error: 36.375\n",
      "Longitude: Mean Absolute Error: 50.278\n",
      "[2.02969244 2.05970392]\n",
      "\n",
      "Lag Order: 27\n",
      "Latitude: Mean Absolute Error: 36.375\n",
      "Longitude: Mean Absolute Error: 48.071\n",
      "[2.02490631 1.92588549]\n",
      "\n",
      "Lag Order: 28\n",
      "Latitude: Mean Absolute Error: 36.375\n",
      "Longitude: Mean Absolute Error: 49.668\n",
      "[1.66305057 1.97287115]\n",
      "\n",
      "Lag Order: 29\n",
      "Latitude: Mean Absolute Error: 36.374\n",
      "Longitude: Mean Absolute Error: 49.514\n",
      "[1.5548867  1.86679884]\n",
      "\n",
      "Lag Order: 30\n",
      "Latitude: Mean Absolute Error: 36.375\n",
      "Longitude: Mean Absolute Error: 66.636\n",
      "[1.99188261 2.11909378]\n",
      "\n"
     ]
    },
    {
     "name": "stderr",
     "output_type": "stream",
     "text": [
      "/Users/manolis/anaconda3/envs/trg/lib/python3.6/site-packages/statsmodels/tsa/base/tsa_model.py:527: ValueWarning: No frequency information was provided, so inferred frequency 10T will be used.\n",
      "  % freq, ValueWarning)\n"
     ]
    }
   ],
   "source": [
    "model = VAR(df_differenced)\n",
    "# Test models' performance for lag number (10-31)\n",
    "for i in range(10, 31):\n",
    "    print('Lag Order:', i)\n",
    "    compare_results_on_test_dataset(df_differenced, df_test, model, i, observations)\n",
    "    print()"
   ]
  },
  {
   "cell_type": "markdown",
   "id": "editorial-humanitarian",
   "metadata": {},
   "source": [
    "#### We can see that Latitude's Mean Absolute Error stays the same for all lag orders (~36.3) and Longitude's MAE is the best for Lag Order: 16\n",
    "#### We also observe that durbin_watson statistics diverge from value 2 at most lag orders. That means that some pattern in the time series is still left to be explained by the model.\n",
    "#### On the other hand, for lag number 16 the durbin_watson statistics are close to 2 which is the best possible.\n"
   ]
  },
  {
   "cell_type": "markdown",
   "id": "radio-indianapolis",
   "metadata": {
    "pycharm": {
     "name": "#%% md\n"
    }
   },
   "source": [
    "### So, we will keep Lag Order 16 and fit our final model with all the dataset included, in order to forecast for the next 2 days 09/09 and 10/09 (our wanted prediction date is 10/09/2019 @ 12:10:00)"
   ]
  },
  {
   "cell_type": "code",
   "execution_count": 18,
   "id": "adult-analyst",
   "metadata": {},
   "outputs": [],
   "source": [
    "LAG_ORDER = 16"
   ]
  },
  {
   "cell_type": "markdown",
   "id": "threaded-junction",
   "metadata": {
    "pycharm": {
     "name": "#%% md\n"
    }
   },
   "source": [
    "## 10. Final Model Train and Save"
   ]
  },
  {
   "cell_type": "code",
   "execution_count": 51,
   "id": "proper-cooper",
   "metadata": {
    "pycharm": {
     "name": "#%%\n"
    }
   },
   "outputs": [
    {
     "name": "stdout",
     "output_type": "stream",
     "text": [
      "    Augmented Dickey-Fuller Test on \"Latitude\" \n",
      "    -----------------------------------------------\n",
      " Null Hypothesis: Data has unit root. Non-Stationary.\n",
      " Significance Level    = 0.05\n",
      " Test Statistic        = -2.5648\n",
      " No. Lags Chosen       = 13\n",
      " Critical value 1%     = -3.482\n",
      " Critical value 5%     = -2.884\n",
      " Critical value 10%    = -2.579\n",
      " => P-Value = 0.1005. Weak evidence to reject the Null Hypothesis.\n",
      " => Series is Non-Stationary.\n",
      "\n",
      "\n",
      "    Augmented Dickey-Fuller Test on \"Longitude\" \n",
      "    -----------------------------------------------\n",
      " Null Hypothesis: Data has unit root. Non-Stationary.\n",
      " Significance Level    = 0.05\n",
      " Test Statistic        = -2.2914\n",
      " No. Lags Chosen       = 9\n",
      " Critical value 1%     = -3.48\n",
      " Critical value 5%     = -2.883\n",
      " Critical value 10%    = -2.578\n",
      " => P-Value = 0.1748. Weak evidence to reject the Null Hypothesis.\n",
      " => Series is Non-Stationary.\n",
      "\n",
      "\n"
     ]
    }
   ],
   "source": [
    "df = pd.read_csv(\"../data/data.csv\", parse_dates=['Time'])\n",
    "df.index = df.Time\n",
    "df = df.drop(['Time'], axis=1)\n",
    "\n",
    "# ADF Test\n",
    "for name, column in df.iteritems():\n",
    "    adfuller_test(column, name=column.name)\n",
    "    print('\\n')"
   ]
  },
  {
   "cell_type": "markdown",
   "id": "loved-alarm",
   "metadata": {
    "pycharm": {
     "name": "#%% md\n"
    }
   },
   "source": [
    "#### Differentiate them to make the time series stationary"
   ]
  },
  {
   "cell_type": "code",
   "execution_count": 52,
   "id": "grand-optimization",
   "metadata": {
    "pycharm": {
     "name": "#%%\n"
    }
   },
   "outputs": [
    {
     "name": "stdout",
     "output_type": "stream",
     "text": [
      "    Augmented Dickey-Fuller Test on \"Latitude\" \n",
      "    -----------------------------------------------\n",
      " Null Hypothesis: Data has unit root. Non-Stationary.\n",
      " Significance Level    = 0.05\n",
      " Test Statistic        = -4.6552\n",
      " No. Lags Chosen       = 12\n",
      " Critical value 1%     = -3.489\n",
      " Critical value 5%     = -2.887\n",
      " Critical value 10%    = -2.58\n",
      " => P-Value = 0.0001. Rejecting Null Hypothesis.\n",
      " => Series is Stationary.\n",
      "\n",
      "\n",
      "    Augmented Dickey-Fuller Test on \"Longitude\" \n",
      "    -----------------------------------------------\n",
      " Null Hypothesis: Data has unit root. Non-Stationary.\n",
      " Significance Level    = 0.05\n",
      " Test Statistic        = -20.263\n",
      " No. Lags Chosen       = 8\n",
      " Critical value 1%     = -3.487\n",
      " Critical value 5%     = -2.886\n",
      " Critical value 10%    = -2.58\n",
      " => P-Value = 0.0. Rejecting Null Hypothesis.\n",
      " => Series is Stationary.\n",
      "\n",
      "\n"
     ]
    }
   ],
   "source": [
    "final_df_differenced = df.diff().dropna()\n",
    "\n",
    "# ADF Test on each column of the Differenced Dataframe\n",
    "for name, column in df_differenced.iteritems():\n",
    "    adfuller_test(column, name=column.name)\n",
    "    print('\\n')"
   ]
  },
  {
   "cell_type": "code",
   "execution_count": 21,
   "id": "center-marathon",
   "metadata": {},
   "outputs": [
    {
     "name": "stdout",
     "output_type": "stream",
     "text": [
      "[1.97951086 1.97080855]\n"
     ]
    },
    {
     "name": "stderr",
     "output_type": "stream",
     "text": [
      "/Users/manolis/anaconda3/envs/trg/lib/python3.6/site-packages/statsmodels/tsa/base/tsa_model.py:527: ValueWarning: No frequency information was provided, so inferred frequency 10T will be used.\n",
      "  % freq, ValueWarning)\n"
     ]
    }
   ],
   "source": [
    "# Durbin Watson test on final model\n",
    "\n",
    "final_model = VAR(final_df_differenced)\n",
    "final_model_fitted = final_model.fit(LAG_ORDER)\n",
    "durbin_watson_results = durbin_watson(final_model_fitted.resid)\n",
    "print(durbin_watson_results)\n"
   ]
  },
  {
   "cell_type": "markdown",
   "id": "loved-participation",
   "metadata": {
    "pycharm": {
     "name": "#%% md\n"
    }
   },
   "source": [
    "#### Durbin Watson Statistics' Results are almost 2 ,which is the best result possible, for both variables."
   ]
  },
  {
   "cell_type": "markdown",
   "id": "unexpected-breed",
   "metadata": {
    "pycharm": {
     "name": "#%% md\n"
    }
   },
   "source": [
    "### Save model"
   ]
  },
  {
   "cell_type": "code",
   "execution_count": 22,
   "id": "micro-transportation",
   "metadata": {},
   "outputs": [],
   "source": [
    "final_model_fitted.save('final_var_model.pkl')"
   ]
  },
  {
   "cell_type": "markdown",
   "id": "proof-durham",
   "metadata": {
    "pycharm": {
     "name": "#%% md\n"
    }
   },
   "source": [
    "## 11. Final Forecast"
   ]
  },
  {
   "cell_type": "markdown",
   "id": "steady-climate",
   "metadata": {
    "pycharm": {
     "name": "#%% md\n"
    }
   },
   "source": [
    "### We want to forecast the next 2 days (last forecast datetime in our data is 2019-09-09T00:00) to include the required date: 10/09/2019 @ 12:10:00."
   ]
  },
  {
   "cell_type": "code",
   "execution_count": 23,
   "id": "native-innocent",
   "metadata": {
    "pycharm": {
     "name": "#%%\n"
    }
   },
   "outputs": [
    {
     "name": "stdout",
     "output_type": "stream",
     "text": [
      "Final Forecast's length: 287\n"
     ]
    }
   ],
   "source": [
    "# forecast_observations for next 2 days with 10minute frequency\n",
    "FORECAST_OBSERVATIONS = 287\n",
    "final_forecast_input = final_df_differenced.values[-LAG_ORDER:]\n",
    "final_fc = final_model_fitted.forecast(y=final_forecast_input, steps=FORECAST_OBSERVATIONS)\n",
    "\n",
    "print(\"Final Forecast's length:\", len(final_fc))"
   ]
  },
  {
   "cell_type": "markdown",
   "id": "about-secretariat",
   "metadata": {
    "pycharm": {
     "name": "#%% md\n"
    }
   },
   "source": [
    "#### Create new dataframe for the forecast to include the required date: 10/09/2019 @ 12:10:00."
   ]
  },
  {
   "cell_type": "code",
   "execution_count": 54,
   "id": "visible-heather",
   "metadata": {},
   "outputs": [
    {
     "data": {
      "text/plain": [
       "287"
      ]
     },
     "execution_count": 54,
     "metadata": {},
     "output_type": "execute_result"
    }
   ],
   "source": [
    "input_df = pd.DataFrame(\n",
    "        {'Time': pd.date_range('2019-09-09', '2019-09-11', freq='10min', closed='left')}\n",
    "     )\n",
    "input_df.index = input_df.Time\n",
    "input_df = input_df.drop(['Time'], axis=1)\n",
    "# Delete first row with datetime 2019-09-09 00:00:00 as it is the last row of our dataset\n",
    "input_df = input_df.iloc[1:]\n",
    "len(input_df)"
   ]
  },
  {
   "cell_type": "code",
   "execution_count": 55,
   "id": "latter-highland",
   "metadata": {},
   "outputs": [],
   "source": [
    "final_forecast_df = pd.DataFrame(final_fc, index=input_df.index, columns=df.columns + '_1d')\n",
    "final_results = invert_transformation(df, final_forecast_df)\n",
    "\n",
    "# We will keep the first 220 results\n",
    "final_results = final_results[:220]"
   ]
  },
  {
   "cell_type": "code",
   "execution_count": 56,
   "id": "improving-there",
   "metadata": {},
   "outputs": [],
   "source": [
    "latitude_forecast = final_results['Latitude_forecast'].tolist()\n",
    "longitude_forecast = final_results['Longitude_forecast'].tolist()"
   ]
  },
  {
   "cell_type": "code",
   "execution_count": 27,
   "id": "broke-deadline",
   "metadata": {},
   "outputs": [
    {
     "data": {
      "image/png": "[encoded data removed]",
      "text/plain": [
       "<Figure size 432x288 with 1 Axes>"
      ]
     },
     "metadata": {
      "needs_background": "light"
     },
     "output_type": "display_data"
    }
   ],
   "source": [
    "plt.plot(latitude_forecast)\n",
    "plt.show()"
   ]
  },
  {
   "cell_type": "code",
   "execution_count": 57,
   "id": "south-salem",
   "metadata": {
    "pycharm": {
     "name": "#%%\n"
    }
   },
   "outputs": [
    {
     "data": {
      "image/png": "[encoded data removed]",
      "text/plain": [
       "<Figure size 432x288 with 1 Axes>"
      ]
     },
     "metadata": {
      "needs_background": "light"
     },
     "output_type": "display_data"
    }
   ],
   "source": [
    "plt.plot(longitude_forecast)\n",
    "plt.show()"
   ]
  },
  {
   "cell_type": "markdown",
   "id": "obvious-murray",
   "metadata": {
    "pycharm": {
     "name": "#%% md\n"
    }
   },
   "source": [
    "## 12. Final Evaluation and Points to be seen in the future"
   ]
  },
  {
   "cell_type": "markdown",
   "id": "described-casting",
   "metadata": {
    "pycharm": {
     "name": "#%% md\n"
    }
   },
   "source": [
    "### Latitude forecast resembles a lot training dataset's latitude plot. However, Longitude's plot shows a clear variance convergence as long as the observations progress. That is something our model does not explain and we should look in the future."
   ]
  },
  {
   "cell_type": "markdown",
   "id": "involved-element",
   "metadata": {
    "pycharm": {
     "name": "#%% md\n"
    }
   },
   "source": [
    "### After testing our predictions we observed that our forecast at its last 50 predictions implies a change in ISS's orbit, meaning that the longitude points some times go from east to west which is wrong."
   ]
  },
  {
   "cell_type": "markdown",
   "id": "geological-applicant",
   "metadata": {},
   "source": [
    "### For the first predictions our model seems to perform well. That is not the case as the observations continue. That is a serious issue for our model due to the fact that the required datetime we want to predict is almost 200 observations after the last one of our dataset. After all, our result is not expected to be accurate."
   ]
  },
  {
   "cell_type": "code",
   "execution_count": null,
   "id": "moderate-collect",
   "metadata": {},
   "outputs": [],
   "source": []
  },
  {
   "cell_type": "markdown",
   "id": "attached-avenue",
   "metadata": {},
   "source": [
    "### Forecast for 2019-09-10 12:10:00"
   ]
  },
  {
   "cell_type": "code",
   "execution_count": 58,
   "id": "technical-headquarters",
   "metadata": {},
   "outputs": [
    {
     "data": {
      "text/plain": [
       "Latitude_1d           16.253333\n",
       "Longitude_1d         -47.705239\n",
       "Latitude_forecast     51.613412\n",
       "Longitude_forecast   -46.644147\n",
       "Name: 2019-09-10 12:10:00, dtype: float64"
      ]
     },
     "execution_count": 58,
     "metadata": {},
     "output_type": "execute_result"
    }
   ],
   "source": [
    "final_results.loc['2019-09-10 12:10:00']"
   ]
  },
  {
   "cell_type": "markdown",
   "id": "retained-hayes",
   "metadata": {
    "pycharm": {
     "name": "#%% md\n"
    }
   },
   "source": [
    "### The predicted location is in North Atlantic Ocean. The right location was south of South Africa.\n",
    "http://www.isstracker.com/historical"
   ]
  }
 ],
 "metadata": {
  "kernelspec": {
   "display_name": "trg",
   "language": "python",
   "name": "trg"
  },
  "language_info": {
   "codemirror_mode": {
    "name": "ipython",
    "version": 3
   },
   "file_extension": ".py",
   "mimetype": "text/x-python",
   "name": "python",
   "nbconvert_exporter": "python",
   "pygments_lexer": "ipython3",
   "version": "3.6.12"
  }
 },
 "nbformat": 4,
 "nbformat_minor": 5
}
